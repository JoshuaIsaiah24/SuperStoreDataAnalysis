{
 "cells": [
  {
   "cell_type": "code",
   "execution_count": 1,
   "metadata": {},
   "outputs": [],
   "source": [
    "import pandas as pd\n",
    "import seaborn as sns\n",
    "import numpy as np\n",
    "import matplotlib.pyplot as plt\n",
    "from IPython.display import display\n"
   ]
  },
  {
   "cell_type": "code",
   "execution_count": 2,
   "metadata": {},
   "outputs": [],
   "source": [
    "super = pd.read_csv(\"Sample - Superstore.csv\", encoding='ISO-8859-1')"
   ]
  },
  {
   "cell_type": "code",
   "execution_count": null,
   "metadata": {},
   "outputs": [],
   "source": [
    "super.head(20) # checking the first 20 rows of the data\n",
    "super.tail(20) # the last 20 rows"
   ]
  },
  {
   "cell_type": "code",
   "execution_count": null,
   "metadata": {},
   "outputs": [],
   "source": [
    "super.info() # checking the overview of the datasets (columns, their data types, and non-null counts)"
   ]
  },
  {
   "cell_type": "code",
   "execution_count": null,
   "metadata": {},
   "outputs": [],
   "source": [
    "super.describe() # summaries for numerical columns"
   ]
  },
  {
   "cell_type": "code",
   "execution_count": 6,
   "metadata": {},
   "outputs": [],
   "source": [
    "pd.set_option('display.max_columns', None) # I want to see all the columns\n",
    "pd.set_option('display.max_rows', None) # I want to see all the rows"
   ]
  },
  {
   "cell_type": "code",
   "execution_count": null,
   "metadata": {},
   "outputs": [],
   "source": [
    "super.iloc[9000:9994] # showing the datas from rows 9000 to 9994"
   ]
  },
  {
   "cell_type": "code",
   "execution_count": null,
   "metadata": {},
   "outputs": [],
   "source": [
    "# Step 1: Calculate total sales by region\n",
    "region_sales = super.groupby('Region')['Sales'].sum().reset_index() # reset_index() turns the index back to a column for easier manipulation\n",
    "\n",
    "region_sales_sorted = region_sales.sort_values(by='Sales', ascending=False) # sorting the data according to their sales\n",
    "\n",
    "# Step 2: Sort values to find the highest and lowest sales\n",
    "highest_sales = region_sales['Sales'].max()\n",
    "lowest_sales = region_sales['Sales'].min()\n",
    "\n",
    "# Step 3: Calculate the percentage difference\n",
    "percentage_difference = ((highest_sales - lowest_sales) / lowest_sales) * 100\n",
    "\n",
    "# Displaying the result\n",
    "print(f\"The percentage difference between the highest and lowest region sales is {percentage_difference:.2f}%.\")\n",
    "\n",
    "# Step 4: Create a bar chart\n",
    "plt.figure(figsize=(10,6))\n",
    "sns.barplot(x='Region', y='Sales', data=region_sales_sorted, hue='Region', palette='viridis')\n",
    "plt.title('Total Sales by Region')\n",
    "plt.ylabel('Total Sales ($)')\n",
    "plt.xlabel('Region')\n",
    "# I want to show the percentage difference on the visualization\n",
    "# ha is horizontal allignment and va is for vertical\n",
    "plt.text(1, highest_sales, f'Percentage difference: {percentage_difference:.2f}%', color='red', fontsize=12, ha='center', va='bottom')\n",
    "\n",
    "# Display the chart\n",
    "plt.show()"
   ]
  },
  {
   "cell_type": "code",
   "execution_count": null,
   "metadata": {},
   "outputs": [],
   "source": [
    "# in the case that you want to dive in deeper on the sales of the region\n",
    "top_region = region_sales_sorted.iloc[0]['Region']  # This extracts the name of the region with the highest sales\n",
    "top_region_data = super[super['Region'] == top_region]\n",
    "\n",
    "state_sales = top_region_data.groupby('State')['Sales'].sum().reset_index()\n",
    "state_sales_sorted = state_sales.sort_values(by='Sales', ascending=False)\n",
    "\n",
    "# Create a bar plot to visualize sales by state in the top region\n",
    "plt.figure(figsize=(10,6))\n",
    "sns.barplot(x='State', y='Sales', data=state_sales_sorted, hue='State', palette='magma')\n",
    "\n",
    "# Add title and labels\n",
    "plt.title(f'Sales by States in the Top Region: {top_region}', fontsize=16)\n",
    "plt.ylabel('Total Sales ($)', fontsize=12)\n",
    "plt.xlabel('State', fontsize=12)\n",
    "\n",
    "# Show the plot\n",
    "plt.xticks(rotation=45)  # Rotate state names for better readability\n",
    "plt.show()\n"
   ]
  },
  {
   "cell_type": "code",
   "execution_count": null,
   "metadata": {},
   "outputs": [],
   "source": [
    "# top 5 products according to sales\n",
    "\n",
    "product_sales = super.groupby('Product Name')[['Sales', 'Quantity', 'Profit']].sum().round(2).reset_index()\n",
    "product_sales_sorted = product_sales.sort_values(by='Sales', ascending=False)\n",
    "# getting the top 5 products\n",
    "top_5_product = product_sales_sorted.head(5)\n",
    "\n",
    "plt.figure(figure=(10,6))\n",
    "sns.barplot(x='Sales', y='Product Name', data=top_5_product, hue='Sales', palette='magma')\n",
    "\n",
    "plt.title(f'Top 5 product by sales', fontsize=16)\n",
    "plt.yticks(fontsize=8) # adjusting the fontsize of the product names\n",
    "plt.ylabel('Top Products', fontsize=12)\n",
    "plt.xlabel('Sales ($)', fontsize=12)\n",
    "plt.show()\n",
    "\n",
    "# showing a table that summarizes the product sales, quantity and profit\n",
    "display(top_5_product[['Product Name', 'Sales', 'Quantity', 'Profit']])"
   ]
  },
  {
   "cell_type": "code",
   "execution_count": null,
   "metadata": {},
   "outputs": [],
   "source": [
    "# getting the monthly sales trend with a 3 month Moving Average\n",
    "\n",
    "# Making sure that column Order Date is on a date format\n",
    "super['Order Date'] = pd.to_datetime(super['Order Date'])\n",
    "# Creating a new column for months\n",
    "super['Order Month'] = super['Order Date'].dt.to_period('M')\n",
    "#super['Order Year'] = super['Order Date'].dt.year()\n",
    "\n",
    "# now calculating the \n",
    "monthly_sales = super.groupby('Order Month')[['Sales', 'Profit']].sum().round(2).reset_index()\n",
    "# converts the the period back to timestamp\n",
    "monthly_sales['Order Month'] = monthly_sales['Order Month'].dt.to_timestamp()\n",
    "# getting the sales data trend on a 3 month period\n",
    "monthly_sales['3-Month MA'] = monthly_sales['Sales'].rolling(window=3).mean()\n",
    "\n",
    "plt.figure(figsize=(10,6))\n",
    "plt.title('Monthly Sales Trend', fontsize=16)\n",
    "sns.lineplot(x='Order Month', y='Sales', data=monthly_sales, label='Monthly Sales', marker='o')\n",
    "sns.lineplot(x='Order Month', y='3-Month MA', data=monthly_sales, label='3-Month MA', linestyle='--')\n",
    "plt.ylabel('Sales ($)', fontsize=12)\n",
    "plt.xlabel('Month', fontsize=12)\n",
    "plt.xticks(rotation=45)\n",
    "plt.legend()\n",
    "plt.tight_layout()\n",
    "plt.show()"
   ]
  },
  {
   "cell_type": "code",
   "execution_count": null,
   "metadata": {},
   "outputs": [],
   "source": [
    "# getting the monthly sales trend for a year\n",
    "# example year: 2016\n",
    "\n",
    "# Making sure that column Order Date is on a date format\n",
    "super['Order Date'] = pd.to_datetime(super['Order Date'])\n",
    "# Creating a new column for months\n",
    "super['Order Month'] = super['Order Date'].dt.to_period('M')\n",
    "super['Order Year'] = super['Order Date'].dt.year\n",
    "\n",
    "# now calculating the \n",
    "yearly_sales = super.groupby('Order Year')[['Sales', 'Profit']].sum().round(2).reset_index()\n",
    "sales_year_2016 = super[super['Order Year'] == 2016] # filtering the year to 2016\n",
    "monthly_sales = sales_year_2016.groupby('Order Month')[['Sales', 'Profit']].sum().reset_index()\n",
    "monthly_sales[['Sales', 'Profit']] = monthly_sales[['Sales', 'Profit']].round(2)\n",
    "monthly_sales['Order Month'] = monthly_sales['Order Month'].dt.to_timestamp() # converting the order month back to time stamp for plotting\n",
    "\n",
    "plt.figure(figsize=(10,6))\n",
    "plt.title('Monthly Sales Trend for year 2016', fontsize=16)\n",
    "sns.lineplot(x='Order Month', y='Sales', data=monthly_sales)\n",
    "plt.ylabel('Sales ($)', fontsize=12)\n",
    "plt.xlabel('Month', fontsize=12)\n",
    "plt.show()"
   ]
  },
  {
   "cell_type": "code",
   "execution_count": null,
   "metadata": {},
   "outputs": [],
   "source": [
    "# Customer segmentation by Sales\n",
    "\n",
    "customer_sales = super.groupby('Segment')[['Sales', 'Profit']].sum().round(2).reset_index()\n",
    "\n",
    "plt.figure(figsize=(10,6))\n",
    "plt.pie(customer_sales['Sales'], labels=customer_sales['Segment'], autopct='%1.1f%%', startangle=90, colors=['#ff9999','#66b3ff','#99ff99','#ffcc99'])\n",
    "plt.axis('equal')\n",
    "plt.title('Customer Segmentation by Sales', fontsize=16)\n",
    "plt.show()\n",
    "display(customer_sales[['Segment', 'Sales', 'Profit']])"
   ]
  },
  {
   "cell_type": "code",
   "execution_count": null,
   "metadata": {},
   "outputs": [],
   "source": [
    "# Sales vs Profit Correlation\n",
    "\n",
    "category_sales = super.groupby('Category')[['Sales', 'Profit', 'Quantity', 'Discount']].sum().round(2).reset_index()\n",
    "display(category_sales[['Category', 'Sales', 'Profit', 'Quantity', 'Discount']])\n",
    "\n",
    "category_sales['Normalized Discount'] = category_sales['Discount'] / category_sales['Discount'].max()\n",
    "\n",
    "plt.figure(figsize=(10,6))\n",
    "scatter = plt.scatter(x=category_sales['Sales'],\n",
    "            y=category_sales['Profit'],\n",
    "            c=category_sales['Normalized Discount'],\n",
    "            s=category_sales['Quantity'],\n",
    "            cmap='coolwarm',\n",
    "            alpha=0.7)\n",
    "plt.colorbar(scatter, label='Discount (Normalized)')\n",
    "plt.title('Sales vs. Profit by Category', fontsize=16)\n",
    "plt.xlabel('Sales ($)', fontsize=12)\n",
    "plt.ylabel('Profit ($)', fontsize=12)\n",
    "# Adding labels in the visualization\n",
    "for i, category in enumerate(category_sales['Category']):\n",
    "    plt.text(category_sales['Sales'][i], category_sales['Profit'][i], category, fontsize=9, ha='right')\n",
    "\n",
    "plt.tight_layout()\n",
    "plt.show()"
   ]
  },
  {
   "cell_type": "code",
   "execution_count": null,
   "metadata": {},
   "outputs": [],
   "source": [
    "# Shipping Performance Analysis\n",
    "\n",
    "super['Order Date'] = pd.to_datetime(super['Order Date'])\n",
    "super['Ship Date'] = pd.to_datetime(super['Ship Date'])\n",
    "\n",
    "super['Ship Time (Days)'] = (super['Ship Date'] - super['Order Date']).dt.days\n",
    "shipping_sales = super.groupby('Ship Time (Days)')[['Sales', 'Profit']].sum().round(2).reset_index()\n",
    "display(shipping_sales[[ 'Ship Time (Days)', 'Sales', 'Profit']])\n",
    "\n",
    "plt.figure(figsize=(10,6))\n",
    "plt.scatter(shipping_sales['Ship Time (Days)'], shipping_sales['Sales'], color='darkblue', label='Sales')\n",
    "plt.scatter(shipping_sales['Ship Time (Days)'], shipping_sales['Profit'], color='darkred', label='Profit')\n",
    "\n",
    "plt.title('Shipping Time vs Sales and Profit', fontsize=16)\n",
    "plt.xlabel('Shipping Time (Days)', fontsize=12)\n",
    "plt.ylabel('Sales/Profit ($)', fontsize=12)\n",
    "plt.legend()\n",
    "plt.tight_layout()\n",
    "plt.show()"
   ]
  }
 ],
 "metadata": {
  "kernelspec": {
   "display_name": "SuperStore-QtLYWSL0",
   "language": "python",
   "name": "python3"
  },
  "language_info": {
   "codemirror_mode": {
    "name": "ipython",
    "version": 3
   },
   "file_extension": ".py",
   "mimetype": "text/x-python",
   "name": "python",
   "nbconvert_exporter": "python",
   "pygments_lexer": "ipython3",
   "version": "3.11.5"
  }
 },
 "nbformat": 4,
 "nbformat_minor": 2
}
